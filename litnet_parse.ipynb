{
 "cells": [
  {
   "cell_type": "code",
   "execution_count": 12,
   "metadata": {},
   "outputs": [],
   "source": [
    "import time, datetime, csv, dateutil\n",
    "from itertools import islice\n",
    "from os import remove\n",
    "import os\n",
    "import pandas as pd\n",
    "import numpy as np\n",
    "import warnings\n",
    "#warnings.filterwarnings('ignore')\n",
    "from tqdm import tqdm_notebook as tqdm\n",
    "import selenium as s\n",
    "from selenium import webdriver \n",
    "from selenium.webdriver.common.by import By \n",
    "from selenium.webdriver.support.ui import WebDriverWait \n",
    "from selenium.webdriver.support import expected_conditions as EC \n",
    "from selenium.common.exceptions import TimeoutException"
   ]
  },
  {
   "cell_type": "code",
   "execution_count": 2,
   "metadata": {},
   "outputs": [],
   "source": [
    "wd = webdriver.Firefox(executable_path=r'C:\\geckodriver.exe')\n",
    "URL = 'https://litnet.com/ru/reader/igra-nayavu-b128818'  \n",
    "wd.get(URL)"
   ]
  },
  {
   "cell_type": "code",
   "execution_count": 18,
   "metadata": {},
   "outputs": [],
   "source": [
    "def next_page(wd):\n",
    "    time.sleep(1)\n",
    "    \n",
    "    try:\n",
    "        banner = wd.find_element_by_xpath(\".//div[@class='modal fade in']\")\n",
    "        action = webdriver.common.action_chains.ActionChains(wd)\n",
    "        action.move_to_element_with_offset(banner, 150, 0) #move 150 pixels to the right to access Help link\n",
    "        action.click()\n",
    "        action.perform()\n",
    "    except:\n",
    "        pass\n",
    "    \n",
    "    time.sleep(2)\n",
    "    next_page_class = \"pull-right\" #there are two buttons - for next page and next chapter. The latter has a suffix in class\n",
    "    next_chapter_suffix = \" chapter-btn\"\n",
    "\n",
    "    next_page_buttons = wd.find_elements_by_xpath(\".//a[@class='%s']\"%next_page_class)\n",
    "    if len(next_page_buttons) == 2:\n",
    "        next_page_buttons[0].click()\n",
    "    else:\n",
    "        next_chapter_buttons = wd.find_elements_by_xpath(\".//a[@class='%s']\"%(next_page_class+next_chapter_suffix))\n",
    "        if len(next_chapter_buttons) == 2:\n",
    "            next_chapter_buttons[0].click()\n",
    "        elif len(next_chapter_buttons) == 0:\n",
    "            print('The END')\n",
    "            return -1\n",
    "        else:\n",
    "            print('there is something wrong...')\n",
    "            return -1\n",
    "    return 0\n",
    "\n",
    "def read_page(wd, fname):\n",
    "    cls = 'reader-text font-size-medium'\n",
    "    \n",
    "    template = wd.find_elements_by_xpath(\".//div[@class='%s']\"%cls)\n",
    "    assert len(template)==1\n",
    "    text = template[0].find_elements_by_xpath(\".//p\")\n",
    "    \n",
    "    page_list = []\n",
    "    for par in text:\n",
    "        page_list.append(par.text)\n",
    "    \n",
    "    page = '\\n'.join(page_list) + '\\n'\n",
    "    \n",
    "    f = open(fname,\"a\",encoding=\"utf-8\") \n",
    "    f.write(page)\n",
    "    f.close()\n",
    "    \n",
    "    return\n",
    "\n",
    "def check_if_file_empty(fname):\n",
    "    if os.stat(fname).st_size == 0:\n",
    "        return\n",
    "    else:\n",
    "        f = open(fname,\"w+\",encoding=\"utf-8\") \n",
    "        f.close()\n",
    "    return"
   ]
  },
  {
   "cell_type": "code",
   "execution_count": 19,
   "metadata": {},
   "outputs": [
    {
     "name": "stdout",
     "output_type": "stream",
     "text": [
      "The END\n"
     ]
    }
   ],
   "source": [
    "status = 0\n",
    "fname = 'test.txt'\n",
    "check_if_file_empty(fname)\n",
    "while status == 0:\n",
    "    read_page(wd,fname)\n",
    "    status = next_page(wd)"
   ]
  },
  {
   "cell_type": "code",
   "execution_count": 49,
   "metadata": {},
   "outputs": [],
   "source": []
  },
  {
   "cell_type": "code",
   "execution_count": null,
   "metadata": {},
   "outputs": [],
   "source": []
  }
 ],
 "metadata": {
  "kernelspec": {
   "display_name": "Python 3",
   "language": "python",
   "name": "python3"
  },
  "language_info": {
   "codemirror_mode": {
    "name": "ipython",
    "version": 3
   },
   "file_extension": ".py",
   "mimetype": "text/x-python",
   "name": "python",
   "nbconvert_exporter": "python",
   "pygments_lexer": "ipython3",
   "version": "3.7.4"
  }
 },
 "nbformat": 4,
 "nbformat_minor": 2
}
